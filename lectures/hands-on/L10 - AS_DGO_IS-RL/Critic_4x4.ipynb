{
 "cells": [
  {
   "cell_type": "markdown",
   "id": "85d9cbb1-febe-4c48-924e-11586170ad2e",
   "metadata": {},
   "source": [
    "# ALERT Doctoral School 2023\n",
    "## Hands-on Critic Algorithms for the Miner game\n",
    "### Authors: Alexandros Stathas, Diego Gutierrez-Oribio, Ioannis Stefanou"
   ]
  },
  {
   "cell_type": "markdown",
   "id": "de461941-a19a-44d5-9c32-f04f959ae47d",
   "metadata": {},
   "source": [
    "In this code, you can train four Critic algorithms (Monte-Carlo, SARSA, Q-learning, and Q-learning with advantage) to solve the Miner game on a 4x4 grid."
   ]
  },
  {
   "cell_type": "markdown",
   "id": "6a008750-22a0-4007-9959-300d71a8da4b",
   "metadata": {},
   "source": [
    "#### Main Libraries"
   ]
  },
  {
   "cell_type": "code",
   "execution_count": 56,
   "id": "9ad65c0e-0316-48f9-bc09-cc254da5dd74",
   "metadata": {},
   "outputs": [],
   "source": [
    "from Miner_v1 import Miner\n",
    "from plotter import plot_env, plot_arrows \n",
    "import numpy as np\n",
    "import matplotlib.pyplot as plt\n",
    "np.set_printoptions(precision=3)\n",
    "np.set_printoptions(suppress = True)"
   ]
  },
  {
   "cell_type": "markdown",
   "id": "3ef45c76-0988-495b-a9f1-5405cbb8bb71",
   "metadata": {},
   "source": [
    "#### Initialization of the Miner environment"
   ]
  },
  {
   "cell_type": "code",
   "execution_count": 57,
   "id": "9d8f14e6-f6c4-4611-af76-900d467de1d5",
   "metadata": {},
   "outputs": [
    {
     "data": {
      "text/plain": [
       "(13, {'prob': 1})"
      ]
     },
     "execution_count": 57,
     "metadata": {},
     "output_type": "execute_result"
    }
   ],
   "source": [
    "env = Miner(desc=[\"FFFG\", \"FFFF\", \"FFFF\", \"HSFF\"], is_slippery=False, render_mode=\"ansi\")\n",
    "env.reset()\n",
    "\n",
    "num_states = env.observation_space.n\n",
    "num_actions = env.action_space.n"
   ]
  },
  {
   "cell_type": "markdown",
   "id": "6e7443e4-10c2-4666-ac34-c3aafc22e09a",
   "metadata": {},
   "source": [
    "#### Training hyperparameters"
   ]
  },
  {
   "cell_type": "code",
   "execution_count": 59,
   "id": "f27fa6ca-c091-47ca-8eef-42d1ba835497",
   "metadata": {},
   "outputs": [],
   "source": [
    "num_episodes = 1500\n",
    "gamma = 0.99 # Discount factor\n",
    "alpha = 0.1  # Running average hyperparameter\n",
    "epsilon = 0.01  # Epsilon-greedy exploration\n",
    "step_size = 12"
   ]
  },
  {
   "cell_type": "markdown",
   "id": "7dc1a715-2c54-4875-8623-6d9b02812ba0",
   "metadata": {},
   "source": [
    "### Monte-Carlo"
   ]
  },
  {
   "cell_type": "code",
   "execution_count": 60,
   "id": "0c1e612c-1171-43fa-9933-5da97760b682",
   "metadata": {},
   "outputs": [],
   "source": [
    "Q = np.zeros((num_states, num_actions))\n",
    "\n",
    "for episode in range(num_episodes):\n",
    "    state = env.reset()[0]\n",
    "    episode_states = []\n",
    "    episode_actions = []\n",
    "    episode_rewards = []\n",
    "\n",
    "    done = False\n",
    "    while not done:\n",
    "        action = env.action_space.sample()  # Choose a random action\n",
    "        next_state, reward, done, _ = env.step(action)[:4]\n",
    "        episode_states.append(state)\n",
    "        episode_actions.append(action)\n",
    "        episode_rewards.append(reward)\n",
    "        state = next_state\n",
    "\n",
    "    G = 0  # Return (cumulative reward)\n",
    "    for t in range(len(episode_states) - 1, -1, -1):\n",
    "        G = gamma * G + episode_rewards[t]\n",
    "        state = episode_states[t]\n",
    "        action = episode_actions[t]\n",
    "        \n",
    "        # Update Q-value using a running average\n",
    "        Q[state, action] = (1 - alpha) * Q[state, action] + alpha * G\n",
    "\n",
    "optimal_policy = np.argmax(Q, axis=1)"
   ]
  },
  {
   "cell_type": "markdown",
   "id": "e661dd0f-3b9b-4d08-b172-fa32d45fed81",
   "metadata": {},
   "source": [
    "#### Results"
   ]
  },
  {
   "cell_type": "code",
   "execution_count": 61,
   "id": "54c930eb-9883-43b2-ad7f-a104edcc8231",
   "metadata": {},
   "outputs": [
    {
     "name": "stdout",
     "output_type": "stream",
     "text": [
      "Final Q-values:\n",
      " [[ -6.01  -32.581  18.625 -30.922]\n",
      " [  4.019  20.805  60.088  14.241]\n",
      " [  6.365   5.73  100.     13.073]\n",
      " [  0.      0.      0.      0.   ]\n",
      " [-39.877 -20.363   5.863 -26.172]\n",
      " [  8.123 -14.111  31.808  38.934]\n",
      " [ 18.702  13.318  34.903  28.09 ]\n",
      " [  5.09   18.502  58.606 100.   ]\n",
      " [-38.002 -20.    -30.388 -33.958]\n",
      " [-33.585 -13.422  12.745  18.965]\n",
      " [ 12.697 -18.597  44.377  41.868]\n",
      " [ 45.446  -9.326 -14.899  42.818]\n",
      " [  0.      0.      0.      0.   ]\n",
      " [-20.     -1.173   8.022  10.444]\n",
      " [-15.755  -9.141  10.389   3.34 ]\n",
      " [  3.095  -0.567  -6.557  24.036]]\n",
      "\n",
      "\n",
      "Optimal Policy:\n",
      "\n"
     ]
    },
    {
     "data": {
      "image/png": "[encoded data removed]",
      "text/plain": [
       "<Figure size 500x500 with 1 Axes>"
      ]
     },
     "metadata": {},
     "output_type": "display_data"
    }
   ],
   "source": [
    "print(\"Final Q-values:\\n\", Q); print(\"\\n\")\n",
    "print(\"Optimal Policy:\\n\")\n",
    "game_actions_to_plotter_arrows = {'0': 2, '1': 1, '3':3, '2':4}\n",
    "policy_arrow_compatible =np.array([game_actions_to_plotter_arrows[key] for key in np.array(optimal_policy,dtype=\"<U3\")],dtype=np.int32)\n",
    "policy_arrow_compatible=policy_arrow_compatible.reshape((-1,4))[::-1,:].reshape((16))\n",
    "M=4;Lx=5;Ly=5\n",
    "fig, ax = plt.subplots()\n",
    "plot_env(fig,ax,M,Lx,Ly)\n",
    "plot_arrows(fig,ax,policy_arrow_compatible,M,Lx,Ly)\n",
    "plt.show()"
   ]
  },
  {
   "cell_type": "code",
   "execution_count": 62,
   "id": "e72d8bcf-edd0-4d93-bada-70f6f8565dd0",
   "metadata": {},
   "outputs": [],
   "source": [
    "def Dictionary(s):\n",
    "    return optimal_policy[s]"
   ]
  },
  {
   "cell_type": "markdown",
   "id": "53d1a899-ce66-40bd-b429-01d913bb41e3",
   "metadata": {},
   "source": [
    "#### Testing of your policy in the Miner game"
   ]
  },
  {
   "cell_type": "code",
   "execution_count": 63,
   "id": "624e4f85-3916-4257-bcc9-0bce22474b79",
   "metadata": {},
   "outputs": [
    {
     "name": "stdout",
     "output_type": "stream",
     "text": [
      "Congratulations! You reached the gold!\n",
      "Total number of moves: 5\n",
      "Final reward: 100\n"
     ]
    }
   ],
   "source": [
    "# Create the Miner environment with custom map and no slipperiness\n",
    "env_test = Miner(desc=[\"FFFG\", \"FFFF\", \"FFFF\", \"HSFF\"], is_slippery=False, render_mode=\"human\")\n",
    "env_test.reset()\n",
    "\n",
    "# Lists to store states, actions, rewards, and dones during the play\n",
    "states = np.zeros(6)\n",
    "states[0] = 13\n",
    "actions, rewards, dones = [], [], []\n",
    "\n",
    "def show_state(obs):\n",
    "    # Render the environment using matplotlib\n",
    "    env_test.render()\n",
    "    # Pause for a short time to allow the plot to update\n",
    "    plt.pause(0.01)\n",
    "\n",
    "for index in range(5):\n",
    "    action = Dictionary(int(states[index]))\n",
    "    obs_tp1, rew, done, _ = env_test.step(action)[:4] \n",
    "\n",
    "    # Append the states, actions, rewards, and dones to the lists\n",
    "    states[index+1]=obs_tp1\n",
    "    actions.append(action)\n",
    "    rewards.append(rew)\n",
    "    dones.append(done)  \n",
    "\n",
    "    # Show the updated state of the environment\n",
    "    show_state(obs_tp1)\n",
    "\n",
    "    if done == True:\n",
    "        if rew > 0:\n",
    "            print(\"Congratulations! You reached the gold!\")\n",
    "        else:\n",
    "            print(\"Oops! You fell into a hole!\")\n",
    "            \n",
    "# Print the information after the game ends\n",
    "print(\"Total number of moves:\", np.size(rewards))\n",
    "print(\"Final reward:\", int(sum(rewards)))\n",
    "    \n",
    "# Close the environment after finishing the game\n",
    "env_test.close()"
   ]
  },
  {
   "cell_type": "markdown",
   "id": "acbb5962-01ca-4f62-ba78-2e6f751ff2e7",
   "metadata": {},
   "source": [
    "### SARSA (On-Policy TD Control)"
   ]
  },
  {
   "cell_type": "code",
   "execution_count": 64,
   "id": "fee03fb2-09e1-4db0-a3b0-987bc8e2d7d3",
   "metadata": {},
   "outputs": [],
   "source": [
    "Q = np.zeros((num_states, num_actions))\n",
    "for episode in range(num_episodes):\n",
    "    state = env.reset()[0]\n",
    "    action = env.action_space.sample()  # Initial action\n",
    "\n",
    "    done = False\n",
    "    step=0\n",
    "    while not done:\n",
    "        step+=1\n",
    "        if step==step_size:\n",
    "            break\n",
    "\n",
    "        if np.max(Q[state, :]) > 0:\n",
    "            next_action = np.argmax(Q[state, :])  # Exploit\n",
    "        else:\n",
    "            next_action = env.action_space.sample()  # Explore\n",
    "        \n",
    "        next_state, reward, done, _ = env.step(next_action)[:4]\n",
    "        \n",
    "        # SARSA update\n",
    "        Q[state, action] = Q[state, action] + alpha * (reward + gamma * Q[next_state, next_action] - Q[state, action])\n",
    "        \n",
    "        state = next_state\n",
    "        action = next_action\n",
    "        \n",
    "optimal_policy = np.argmax(Q, axis=1)"
   ]
  },
  {
   "cell_type": "markdown",
   "id": "28721885-7142-4434-989b-57e7460e5bf5",
   "metadata": {},
   "source": [
    "#### Results"
   ]
  },
  {
   "cell_type": "code",
   "execution_count": 65,
   "id": "91c9ef5c-2ab1-413e-8171-d159ad090525",
   "metadata": {},
   "outputs": [
    {
     "name": "stdout",
     "output_type": "stream",
     "text": [
      "Final Q-values:\n",
      " [[ -8.651   0.      0.    -11.404]\n",
      " [ -5.139   0.     -2.236  -0.099]\n",
      " [  0.      0.     14.794  16.931]\n",
      " [  0.      0.      0.      0.   ]\n",
      " [-13.636  -6.968   0.    -16.463]\n",
      " [ -0.015   1.224  -6.137  -3.898]\n",
      " [  0.     -0.784  12.912  19.389]\n",
      " [  0.      0.     10.627 100.   ]\n",
      " [-17.584 -15.728   0.      0.   ]\n",
      " [ -1.799   1.576 -10.814 -25.972]\n",
      " [ -2.033  -0.02   27.202  28.81 ]\n",
      " [  0.     -1.     60.033  98.433]\n",
      " [  0.      0.      0.      0.   ]\n",
      " [-23.041 -25.502 -21.53  -22.272]\n",
      " [  1.389  -3.757 -21.227   0.   ]\n",
      " [  0.     -0.545  -8.174   0.   ]]\n",
      "\n",
      "\n",
      "Optimal Policy:\n",
      "\n"
     ]
    },
    {
     "data": {
      "image/png": "[encoded data removed]",
      "text/plain": [
       "<Figure size 500x500 with 1 Axes>"
      ]
     },
     "metadata": {},
     "output_type": "display_data"
    }
   ],
   "source": [
    "print(\"Final Q-values:\\n\", Q); print(\"\\n\")\n",
    "print(\"Optimal Policy:\\n\")\n",
    "game_actions_to_plotter_arrows = {'0': 2, '1': 1, '3':3, '2':4}\n",
    "policy_arrow_compatible =np.array([game_actions_to_plotter_arrows[key] for key in np.array(optimal_policy,dtype=\"<U3\")],dtype=np.int32)\n",
    "policy_arrow_compatible=policy_arrow_compatible.reshape((-1,4))[::-1,:].reshape((16))\n",
    "M=4;Lx=5;Ly=5\n",
    "fig, ax = plt.subplots()\n",
    "plot_env(fig,ax,M,Lx,Ly)\n",
    "plot_arrows(fig,ax,policy_arrow_compatible,M,Lx,Ly)\n",
    "plt.show()"
   ]
  },
  {
   "cell_type": "markdown",
   "id": "772b6464-028d-4f5f-8be9-693c4ecde3f6",
   "metadata": {},
   "source": [
    "#### Testing of your policy in the Miner game"
   ]
  },
  {
   "cell_type": "code",
   "execution_count": 67,
   "id": "a32a6815-af7b-47dc-88b9-b7ad567cf0a0",
   "metadata": {},
   "outputs": [
    {
     "name": "stdout",
     "output_type": "stream",
     "text": [
      "Total number of moves: 5\n",
      "Final reward: 0\n"
     ]
    }
   ],
   "source": [
    "# Create the Miner environment with custom map and no slipperiness\n",
    "env_test = Miner(desc=[\"FFFG\", \"FFFF\", \"FFFF\", \"HSFF\"], is_slippery=False, render_mode=\"human\")\n",
    "env_test.reset()\n",
    "\n",
    "# Lists to store states, actions, rewards, and dones during the play\n",
    "states = np.zeros(6)\n",
    "states[0] = 13\n",
    "actions, rewards, dones = [], [], []\n",
    "\n",
    "def show_state(obs):\n",
    "    # Render the environment using matplotlib\n",
    "    env_test.render()\n",
    "    # Pause for a short time to allow the plot to update\n",
    "    plt.pause(0.01)\n",
    "\n",
    "for index in range(5):\n",
    "    action = Dictionary(int(states[index]))\n",
    "    obs_tp1, rew, done, _ = env_test.step(action)[:4] \n",
    "\n",
    "    # Append the states, actions, rewards, and dones to the lists\n",
    "    states[index+1]=obs_tp1\n",
    "    actions.append(action)\n",
    "    rewards.append(rew)\n",
    "    dones.append(done)  \n",
    "\n",
    "    # Show the updated state of the environment\n",
    "    show_state(obs_tp1)\n",
    "\n",
    "    if done == True:\n",
    "        if rew > 0:\n",
    "            print(\"Congratulations! You reached the gold!\")\n",
    "        else:\n",
    "            print(\"Oops! You fell into a hole!\")\n",
    "            \n",
    "# Print the information after the game ends\n",
    "print(\"Total number of moves:\", np.size(rewards))\n",
    "print(\"Final reward:\", int(sum(rewards)))\n",
    "    \n",
    "# Close the environment after finishing the game\n",
    "env_test.close()"
   ]
  },
  {
   "cell_type": "markdown",
   "id": "cae83fb5-85a8-448c-9c24-d79270749c35",
   "metadata": {},
   "source": [
    "### Q-learning (Off-Policy TD Control)"
   ]
  },
  {
   "cell_type": "code",
   "execution_count": 68,
   "id": "a174b81d-b97c-4433-ae22-604deaf75507",
   "metadata": {},
   "outputs": [],
   "source": [
    "Q = np.zeros((num_states, num_actions))\n",
    "for episode in range(num_episodes):\n",
    "    state = env.reset()[0]\n",
    "\n",
    "    done = False\n",
    "    step=0\n",
    "    while not done:\n",
    "        step+=1\n",
    "        if step==step_size:\n",
    "            break\n",
    "            \n",
    "        if np.max(Q[state, :]) > 0:\n",
    "            action = np.argmax(Q[state, :])  # Exploit\n",
    "        else:\n",
    "            action = env.action_space.sample()  # Explore\n",
    "\n",
    "        next_state, reward, done, _ = env.step(action)[:4]\n",
    "        \n",
    "        # Q-learning update\n",
    "        max_next_action_value = np.max(Q[next_state, :])\n",
    "        Q[state, action] = Q[state, action] + alpha * (reward + gamma * max_next_action_value - Q[state, action])\n",
    "        \n",
    "        state = next_state\n",
    "\n",
    "optimal_policy = np.argmax(Q, axis=1)"
   ]
  },
  {
   "cell_type": "markdown",
   "id": "74f9f335-311f-454c-a2b2-9e64e4e9dc7a",
   "metadata": {},
   "source": [
    "#### Results"
   ]
  },
  {
   "cell_type": "code",
   "execution_count": 69,
   "id": "d267c68f-f110-4171-9650-1a82a851e3a2",
   "metadata": {},
   "outputs": [
    {
     "name": "stdout",
     "output_type": "stream",
     "text": [
      "Final Q-values:\n",
      " [[  0.      0.      0.      0.   ]\n",
      " [  0.      0.     99.     -1.9  ]\n",
      " [  0.      0.    100.     -1.   ]\n",
      " [  0.      0.      0.      0.   ]\n",
      " [ -1.9     0.      0.      0.   ]\n",
      " [  0.      0.      0.     98.01 ]\n",
      " [  0.      0.      0.99    0.   ]\n",
      " [  0.      0.     -1.     40.951]\n",
      " [ -1.9    -5.42    0.      0.   ]\n",
      " [  0.      0.      0.     97.03 ]\n",
      " [  0.      0.      0.433   0.   ]\n",
      " [  0.      0.     -1.      7.343]\n",
      " [  0.      0.      0.      0.   ]\n",
      " [-18.227  -9.657   0.     96.06 ]\n",
      " [  0.     -6.126   0.      0.   ]\n",
      " [  0.     -1.9    -2.71    0.186]]\n",
      "\n",
      "\n",
      "Optimal Policy:\n",
      "\n"
     ]
    },
    {
     "data": {
      "image/png": "[encoded data removed]",
      "text/plain": [
       "<Figure size 500x500 with 1 Axes>"
      ]
     },
     "metadata": {},
     "output_type": "display_data"
    }
   ],
   "source": [
    "print(\"Final Q-values:\\n\", Q); print(\"\\n\")\n",
    "print(\"Optimal Policy:\\n\")\n",
    "game_actions_to_plotter_arrows = {'0': 2, '1': 1, '3':3, '2':4}\n",
    "policy_arrow_compatible =np.array([game_actions_to_plotter_arrows[key] for key in np.array(optimal_policy,dtype=\"<U3\")],dtype=np.int32)\n",
    "policy_arrow_compatible=policy_arrow_compatible.reshape((-1,4))[::-1,:].reshape((16))\n",
    "M=4;Lx=5;Ly=5\n",
    "fig, ax = plt.subplots()\n",
    "plot_env(fig,ax,M,Lx,Ly)\n",
    "plot_arrows(fig,ax,policy_arrow_compatible,M,Lx,Ly)\n",
    "plt.show()"
   ]
  },
  {
   "cell_type": "markdown",
   "id": "ee813bf6-4b60-41de-bc0d-7a01125cd6be",
   "metadata": {},
   "source": [
    "#### Testing of your policy in the Miner game"
   ]
  },
  {
   "cell_type": "code",
   "execution_count": 70,
   "id": "04d95feb-93ea-4bd9-8cb7-269b882f43d4",
   "metadata": {},
   "outputs": [
    {
     "name": "stdout",
     "output_type": "stream",
     "text": [
      "Congratulations! You reached the gold!\n",
      "Total number of moves: 5\n",
      "Final reward: 100\n"
     ]
    }
   ],
   "source": [
    "# Create the Miner environment with custom map and no slipperiness\n",
    "env_test = Miner(desc=[\"FFFG\", \"FFFF\", \"FFFF\", \"HSFF\"], is_slippery=False, render_mode=\"human\")\n",
    "env_test.reset()\n",
    "\n",
    "# Lists to store states, actions, rewards, and dones during the play\n",
    "states = np.zeros(6)\n",
    "states[0] = 13\n",
    "actions, rewards, dones = [], [], []\n",
    "\n",
    "def show_state(obs):\n",
    "    # Render the environment using matplotlib\n",
    "    env_test.render()\n",
    "    # Pause for a short time to allow the plot to update\n",
    "    plt.pause(0.01)\n",
    "\n",
    "for index in range(5):\n",
    "    action = Dictionary(int(states[index]))\n",
    "    obs_tp1, rew, done, _ = env_test.step(action)[:4] \n",
    "\n",
    "    # Append the states, actions, rewards, and dones to the lists\n",
    "    states[index+1]=obs_tp1\n",
    "    actions.append(action)\n",
    "    rewards.append(rew)\n",
    "    dones.append(done)  \n",
    "\n",
    "    # Show the updated state of the environment\n",
    "    show_state(obs_tp1)\n",
    "\n",
    "    if done == True:\n",
    "        if rew > 0:\n",
    "            print(\"Congratulations! You reached the gold!\")\n",
    "        else:\n",
    "            print(\"Oops! You fell into a hole!\")\n",
    "            \n",
    "# Print the information after the game ends\n",
    "print(\"Total number of moves:\", np.size(rewards))\n",
    "print(\"Final reward:\", int(sum(rewards)))\n",
    "    \n",
    "# Close the environment after finishing the game\n",
    "env_test.close()"
   ]
  },
  {
   "cell_type": "markdown",
   "id": "3c6718eb-186c-4c87-9189-0cd9de8f472c",
   "metadata": {},
   "source": [
    "### Q-learning with advantage"
   ]
  },
  {
   "cell_type": "code",
   "execution_count": 71,
   "id": "302c5bd5-d25d-44ff-bed0-a46803211b90",
   "metadata": {},
   "outputs": [],
   "source": [
    "Q = np.zeros((num_states, num_actions))\n",
    "\n",
    "for episode in range(num_episodes):\n",
    "    state = env.reset()[0]\n",
    "\n",
    "    done = False\n",
    "    step=0\n",
    "    while not done:\n",
    "        step+=1\n",
    "        if step==step_size:\n",
    "            break        \n",
    "        if np.max(Q[state, :]) > 0:\n",
    "            # Calculate the advantage using V-values\n",
    "            state_value = np.max(Q[state, :])\n",
    "            advantages = Q[state, :] - state_value\n",
    "            action = np.argmax(advantages)  # Exploit using advantage\n",
    "        else:\n",
    "            action = env.action_space.sample()  # Explore\n",
    "\n",
    "        next_state, reward, done, _ = env.step(action)[:4]\n",
    "        \n",
    "        # Q-learning update\n",
    "        max_next_action_value = np.max(Q[next_state, :])\n",
    "        Q[state, action] = Q[state, action] + alpha * (reward + gamma * max_next_action_value - Q[state, action])\n",
    "        \n",
    "        state = next_state\n",
    "\n",
    "optimal_policy = np.argmax(Q, axis=1)"
   ]
  },
  {
   "cell_type": "markdown",
   "id": "87dff048-6c0d-47ac-a3c4-7af5451054a3",
   "metadata": {},
   "source": [
    "#### Results"
   ]
  },
  {
   "cell_type": "code",
   "execution_count": 72,
   "id": "721d202c-87ca-4f20-817e-c5df70b6f402",
   "metadata": {},
   "outputs": [
    {
     "name": "stdout",
     "output_type": "stream",
     "text": [
      "Final Q-values:\n",
      " [[ -1.      0.      0.     -1.9  ]\n",
      " [  0.      0.      2.772  -1.9  ]\n",
      " [  0.      0.     27.1     0.   ]\n",
      " [  0.      0.      0.      0.   ]\n",
      " [ -1.9     0.      0.      0.   ]\n",
      " [  0.      0.      0.      0.098]\n",
      " [  0.      0.      0.      0.   ]\n",
      " [  0.      0.     -2.71  100.   ]\n",
      " [ -2.71  -10.434   0.      0.   ]\n",
      " [  0.      0.     97.03    0.   ]\n",
      " [  0.      0.     98.01    0.   ]\n",
      " [  0.      0.     -1.     99.   ]\n",
      " [  0.      0.      0.      0.   ]\n",
      " [-19.237  -9.419   0.     96.06 ]\n",
      " [  0.     -7.712   0.      0.   ]\n",
      " [  0.     -9.015  -7.712   0.   ]]\n",
      "\n",
      "\n",
      "Optimal Policy:\n",
      "\n"
     ]
    },
    {
     "data": {
      "image/png": "[encoded data removed]",
      "text/plain": [
       "<Figure size 500x500 with 1 Axes>"
      ]
     },
     "metadata": {},
     "output_type": "display_data"
    }
   ],
   "source": [
    "print(\"Final Q-values:\\n\", Q); print(\"\\n\")\n",
    "print(\"Optimal Policy:\\n\")\n",
    "game_actions_to_plotter_arrows = {'0': 2, '1': 1, '3':3, '2':4}\n",
    "policy_arrow_compatible =np.array([game_actions_to_plotter_arrows[key] for key in np.array(optimal_policy,dtype=\"<U3\")],dtype=np.int32)\n",
    "policy_arrow_compatible=policy_arrow_compatible.reshape((-1,4))[::-1,:].reshape((16))\n",
    "M=4;Lx=5;Ly=5\n",
    "fig, ax = plt.subplots()\n",
    "plot_env(fig,ax,M,Lx,Ly)\n",
    "plot_arrows(fig,ax,policy_arrow_compatible,M,Lx,Ly)\n",
    "plt.show()"
   ]
  },
  {
   "cell_type": "markdown",
   "id": "5619b4f2-0891-4bd2-833d-c22253bd7ba2",
   "metadata": {},
   "source": [
    "#### Testing of your policy in the Miner game"
   ]
  },
  {
   "cell_type": "code",
   "execution_count": 73,
   "id": "0babed39-205a-4bf9-b86b-787252f1121f",
   "metadata": {},
   "outputs": [
    {
     "name": "stdout",
     "output_type": "stream",
     "text": [
      "Congratulations! You reached the gold!\n",
      "Total number of moves: 5\n",
      "Final reward: 100\n"
     ]
    }
   ],
   "source": [
    "# Create the Miner environment with custom map and no slipperiness\n",
    "env_test = Miner(desc=[\"FFFG\", \"FFFF\", \"FFFF\", \"HSFF\"], is_slippery=False, render_mode=\"human\")\n",
    "env_test.reset()\n",
    "\n",
    "# Lists to store states, actions, rewards, and dones during the play\n",
    "states = np.zeros(6)\n",
    "states[0] = 13\n",
    "actions, rewards, dones = [], [], []\n",
    "\n",
    "def show_state(obs):\n",
    "    # Render the environment using matplotlib\n",
    "    env_test.render()\n",
    "    # Pause for a short time to allow the plot to update\n",
    "    plt.pause(0.01)\n",
    "\n",
    "for index in range(5):\n",
    "    action = Dictionary(int(states[index]))\n",
    "    obs_tp1, rew, done, _ = env_test.step(action)[:4] \n",
    "\n",
    "    # Append the states, actions, rewards, and dones to the lists\n",
    "    states[index+1]=obs_tp1\n",
    "    actions.append(action)\n",
    "    rewards.append(rew)\n",
    "    dones.append(done)  \n",
    "\n",
    "    # Show the updated state of the environment\n",
    "    show_state(obs_tp1)\n",
    "\n",
    "    if done == True:\n",
    "        if rew > 0:\n",
    "            print(\"Congratulations! You reached the gold!\")\n",
    "        else:\n",
    "            print(\"Oops! You fell into a hole!\")\n",
    "            \n",
    "# Print the information after the game ends\n",
    "print(\"Total number of moves:\", np.size(rewards))\n",
    "print(\"Final reward:\", int(sum(rewards)))\n",
    "    \n",
    "# Close the environment after finishing the game\n",
    "env_test.close()"
   ]
  },
  {
   "cell_type": "code",
   "execution_count": null,
   "id": "c58594bb-7bca-4c09-9b74-f3613fd2d3cb",
   "metadata": {},
   "outputs": [],
   "source": []
  }
 ],
 "metadata": {
  "kernelspec": {
   "display_name": "Python 3 (ipykernel)",
   "language": "python",
   "name": "python3"
  },
  "language_info": {
   "codemirror_mode": {
    "name": "ipython",
    "version": 3
   },
   "file_extension": ".py",
   "mimetype": "text/x-python",
   "name": "python",
   "nbconvert_exporter": "python",
   "pygments_lexer": "ipython3",
   "version": "3.10.12"
  }
 },
 "nbformat": 4,
 "nbformat_minor": 5
}
