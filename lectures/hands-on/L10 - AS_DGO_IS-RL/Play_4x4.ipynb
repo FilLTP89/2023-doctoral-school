{
 "cells": [
  {
   "cell_type": "markdown",
   "id": "dcedb1fc-f4b8-4e8b-bbc2-606c00706b95",
   "metadata": {},
   "source": [
    "# ALERT Doctoral School 2023\n",
    "## Hands-on the Miner game\n",
    "### Authors: Alexandros Stathas, Diego Gutierrez-Oribio, Ioannis Stefanou"
   ]
  },
  {
   "cell_type": "markdown",
   "id": "6e2fd989-9ee3-41e4-bb14-630bd9a4706b",
   "metadata": {},
   "source": [
    "In this code, you can play the Miner game on a 4x4 grid.\n",
    "\n",
    "Use the keys 'w', 'a', 's', and 'd' to move the miner and get to the gold.\n",
    "\n",
    "You will see the number of movements that you performed and the final reward."
   ]
  },
  {
   "cell_type": "markdown",
   "id": "ef6a39ff-f824-4fd4-8158-6d69fe71f93b",
   "metadata": {},
   "source": [
    "#### Main Libraries"
   ]
  },
  {
   "cell_type": "code",
   "execution_count": 6,
   "id": "c4547901-2141-4f82-be7e-7c55fd332e8d",
   "metadata": {},
   "outputs": [],
   "source": [
    "import numpy as np\n",
    "import matplotlib.pyplot as plt\n",
    "from pynput import keyboard\n",
    "from Miner_v1 import Miner"
   ]
  },
  {
   "cell_type": "markdown",
   "id": "da909524-caa0-4a61-94af-e03bcfa5fe0d",
   "metadata": {},
   "source": [
    "#### Main code"
   ]
  },
  {
   "cell_type": "code",
   "execution_count": 7,
   "id": "6fd193a5-6a9e-4335-9c2c-6bc80cddbbe0",
   "metadata": {},
   "outputs": [
    {
     "name": "stdout",
     "output_type": "stream",
     "text": [
      "Use keys 'w', 'a', 's', and 'd' to move the agent.\n",
      "Press any other key to quit the game.\n",
      "Congratulations! You reached the gold!\n",
      "Total number of moves: 7\n",
      "Final reward: 100\n"
     ]
    }
   ],
   "source": [
    "# Create the Miner environment with custom map and no slipperiness\n",
    "env = Miner(desc=[\"FFFG\", \"FFFF\", \"FFFF\", \"HSFF\"], is_slippery=False, render_mode=\"human\")\n",
    "env.reset()\n",
    "\n",
    "# Define the action mapping\n",
    "action_mapping = {\n",
    "    keyboard.KeyCode.from_char('w'): 3,  # UP\n",
    "    keyboard.KeyCode.from_char('a'): 0,  # LEFT\n",
    "    keyboard.KeyCode.from_char('s'): 1,  # DOWN\n",
    "    keyboard.KeyCode.from_char('d'): 2,  # RIGHT\n",
    "}\n",
    "\n",
    "# Lists to store states, actions, rewards, and dones during the play\n",
    "states, actions, rewards, dones = [], [], [], []\n",
    "\n",
    "def show_state(obs):\n",
    "    # Render the environment using matplotlib\n",
    "    env.render()\n",
    "    # Pause for a short time to allow the plot to update\n",
    "    plt.pause(0.001)\n",
    "\n",
    "def on_press(key):\n",
    "    if key in action_mapping:  # Check if the key is a valid action\n",
    "    # Get the action from the pressed key\n",
    "        action = action_mapping.get(key)\n",
    "        \n",
    "        obs_tp1, rew, done, _ = env.step(action)[:4]  # Corrected line\n",
    "\n",
    "        # Append the states, actions, rewards, and dones to the lists\n",
    "        states.append(obs_tp1)\n",
    "        actions.append(action)\n",
    "        rewards.append(rew)\n",
    "        dones.append(done)  \n",
    "\n",
    "        # Show the updated state of the environment\n",
    "        show_state(obs_tp1)\n",
    "\n",
    "    else:\n",
    "        print(\"Stopping the game.\")\n",
    "        return False  # Stop the listener\n",
    "\n",
    "    if done == True:\n",
    "        if rew > 0:\n",
    "            print(\"Congratulations! You reached the gold!\")\n",
    "            return False\n",
    "        else:\n",
    "            print(\"Oops! You fell into a hole!\")\n",
    "            return False\n",
    "            \n",
    "# Start the keyboard listener\n",
    "with keyboard.Listener(on_press=on_press) as listener:\n",
    "    print(\"Use keys 'w', 'a', 's', and 'd' to move the agent.\")\n",
    "    print(\"Press any other key to quit the game.\")\n",
    "    show_state(env.reset())\n",
    "    listener.join()\n",
    "\n",
    "# Print the information after the game ends\n",
    "print(\"Total number of moves:\", np.size(states))\n",
    "print(\"Final reward:\", int(sum(rewards)))\n",
    "    \n",
    "# Close the environment after finishing the game\n",
    "env.close()"
   ]
  },
  {
   "cell_type": "code",
   "execution_count": null,
   "id": "4e24a1d8-e977-49ae-a52b-9d66937b3c39",
   "metadata": {},
   "outputs": [],
   "source": []
  }
 ],
 "metadata": {
  "kernelspec": {
   "display_name": "Python 3 (ipykernel)",
   "language": "python",
   "name": "python3"
  },
  "language_info": {
   "codemirror_mode": {
    "name": "ipython",
    "version": 3
   },
   "file_extension": ".py",
   "mimetype": "text/x-python",
   "name": "python",
   "nbconvert_exporter": "python",
   "pygments_lexer": "ipython3",
   "version": "3.10.12"
  }
 },
 "nbformat": 4,
 "nbformat_minor": 5
}
