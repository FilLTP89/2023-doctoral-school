{
 "cells": [
  {
   "cell_type": "markdown",
   "id": "e26e6578-f564-4728-88c0-d7cbde715263",
   "metadata": {},
   "source": [
    "# ALERT Doctoral School 2023\n",
    "## Hands-on Policy Gradient algorithm for the Miner game\n",
    "### Authors: Alexandros Stathas, Diego Gutierrez-Oribio, Ioannis Stefanou"
   ]
  },
  {
   "cell_type": "markdown",
   "id": "d0cf6ba5-ad92-4716-af0c-d441491117bf",
   "metadata": {},
   "source": [
    "In this code, you can train a Policy Gradient algorithm to solve the Miner game on a 4x4 grid."
   ]
  },
  {
   "cell_type": "markdown",
   "id": "280ef799-da3e-4f8c-ad38-81f6dc48e3b9",
   "metadata": {},
   "source": [
    "#### Main Libraries"
   ]
  },
  {
   "cell_type": "code",
   "execution_count": 1,
   "id": "e9031685-8ecf-4687-9b1a-5392e2ca77c4",
   "metadata": {},
   "outputs": [
    {
     "name": "stderr",
     "output_type": "stream",
     "text": [
      "2023-09-18 15:05:29.176241: I tensorflow/core/util/port.cc:110] oneDNN custom operations are on. You may see slightly different numerical results due to floating-point round-off errors from different computation orders. To turn them off, set the environment variable `TF_ENABLE_ONEDNN_OPTS=0`.\n",
      "2023-09-18 15:05:29.177525: I tensorflow/tsl/cuda/cudart_stub.cc:28] Could not find cuda drivers on your machine, GPU will not be used.\n",
      "2023-09-18 15:05:29.205236: I tensorflow/tsl/cuda/cudart_stub.cc:28] Could not find cuda drivers on your machine, GPU will not be used.\n",
      "2023-09-18 15:05:29.206030: I tensorflow/core/platform/cpu_feature_guard.cc:182] This TensorFlow binary is optimized to use available CPU instructions in performance-critical operations.\n",
      "To enable the following instructions: AVX2 AVX512F AVX512_VNNI FMA, in other operations, rebuild TensorFlow with the appropriate compiler flags.\n",
      "2023-09-18 15:05:29.664528: W tensorflow/compiler/tf2tensorrt/utils/py_utils.cc:38] TF-TRT Warning: Could not find TensorRT\n"
     ]
    }
   ],
   "source": [
    "from Miner_v1 import Miner, generate_random_map\n",
    "from plotter import plot_env, plot_arrows \n",
    "import numpy as np\n",
    "import tensorflow as tf\n",
    "import tensorflow_probability as tfp\n",
    "from tensorflow.keras import optimizers, losses\n",
    "from tensorflow.keras import Model\n",
    "from tensorflow.keras.layers import Dense\n",
    "import matplotlib.pyplot as plt"
   ]
  },
  {
   "cell_type": "markdown",
   "id": "548c6365-5412-4101-a3b3-21bbc1ba2ca2",
   "metadata": {},
   "source": [
    "#### Initialization of the Miner environment"
   ]
  },
  {
   "cell_type": "code",
   "execution_count": 3,
   "id": "54c50500-65e6-4177-862d-bd21ec5ce28c",
   "metadata": {},
   "outputs": [],
   "source": [
    "env = Miner(desc=[\"FFFG\", \"FFFF\", \"FFFF\", \"HSFF\"], is_slippery=False, render_mode=\"ansi\")\n",
    "env.reset()\n",
    "\n",
    "state_size = env.observation_space.n\n",
    "action_size = env.action_space.n"
   ]
  },
  {
   "cell_type": "markdown",
   "id": "f2a69ed2-6927-4a0e-9c47-42289b7d8188",
   "metadata": {},
   "source": [
    "#### Neural network"
   ]
  },
  {
   "cell_type": "code",
   "execution_count": 4,
   "id": "7a0602d6-b3c2-43e2-a489-b42692e1246b",
   "metadata": {},
   "outputs": [],
   "source": [
    "class PolicyNetwork(tf.keras.Model):\n",
    "    def __init__(self, state_size, action_size):\n",
    "        super(PolicyNetwork, self).__init__()\n",
    "        self.fc1 = Dense(24, activation='relu')\n",
    "        self.fc2 = Dense(24, activation='relu')\n",
    "        self.fc3 = Dense(action_size, activation='softmax')\n",
    "\n",
    "    def call(self, state):\n",
    "        x = self.fc1(state)\n",
    "        x = self.fc2(x)\n",
    "        return self.fc3(x)"
   ]
  },
  {
   "cell_type": "markdown",
   "id": "040ca46c-09e3-4de7-829a-9a81c663bcae",
   "metadata": {},
   "source": [
    "#### Single step in the environment"
   ]
  },
  {
   "cell_type": "code",
   "execution_count": 5,
   "id": "502a9304-5c3b-4111-8973-870e38ad1016",
   "metadata": {},
   "outputs": [],
   "source": [
    "def play_one_step(env,obs,model,loss_fn):\n",
    "    with tf.GradientTape() as tape:\n",
    "\n",
    "        states_array= np.zeros((1,state_size))\n",
    "        states_array[0,obs]=1\n",
    "        \n",
    "        prob = model(states_array)\n",
    "        \n",
    "        prob1 = prob.numpy()\n",
    "        dist = tfp.distributions.Categorical(probs=prob1, dtype=tf.float32)\n",
    "        action = dist.sample()\n",
    "        loss = tf.reduce_mean(loss_fn(action,prob))\n",
    "    grads = tape.gradient(loss,model.trainable_variables)\n",
    "\n",
    "    selected_action = int(action.numpy()[0])\n",
    "    obs, reward, done, info = env.step(selected_action)[:4]\n",
    "    return obs, reward, done, grads, selected_action"
   ]
  },
  {
   "cell_type": "markdown",
   "id": "be06a0ed-bc6c-4da8-9b2a-d0b7de16fb6a",
   "metadata": {},
   "source": [
    "#### Multiple steps in the environment"
   ]
  },
  {
   "cell_type": "code",
   "execution_count": 6,
   "id": "cb9970f5-badd-4dc6-959f-a2508ff48cf8",
   "metadata": {},
   "outputs": [],
   "source": [
    "def play_multiple_episodes(env,n_episodes, n_max_steps, model, loss_fn):\n",
    "    all_rewards = []\n",
    "    all_grads = []\n",
    "    Total_episode_reward = []\n",
    "    Total_batch_reward = []\n",
    "    all_actions = []\n",
    "    for episode in range(n_episodes):\n",
    "        current_rewards = []\n",
    "        current_grads = []\n",
    "        current_action = []\n",
    "        obs, _ = env.reset()\n",
    "        for step in range(n_max_steps):\n",
    "            obs, reward, done, grads, action = play_one_step(env, obs, model, loss_fn)\n",
    "            current_rewards.append(reward)\n",
    "            current_grads.append(grads)\n",
    "            current_action.append(action)\n",
    "            if done:\n",
    "                break\n",
    "                \n",
    "        Total_episode_reward = np.sum(current_rewards)\n",
    "        all_rewards.append(current_rewards)\n",
    "        all_grads.append(current_grads)\n",
    "        all_actions.append(current_action)\n",
    "    Total_batch_reward.append(Total_episode_reward)\n",
    "    return all_rewards, all_grads, Total_batch_reward, all_actions"
   ]
  },
  {
   "cell_type": "markdown",
   "id": "81dc7f49-ad2f-489f-a908-3c7dcae81b68",
   "metadata": {},
   "source": [
    "#### Functions to get the reward"
   ]
  },
  {
   "cell_type": "code",
   "execution_count": 7,
   "id": "117ae5c2-17a9-4bc8-9ec5-01c2c671eddd",
   "metadata": {},
   "outputs": [],
   "source": [
    "def discount_rewards(rewards, discount_factor):\n",
    "    discounted = np.array(rewards)\n",
    "    for step in range(len(rewards)-2,-1,-1):\n",
    "        discounted[step]+=discounted[step+1]*discount_factor\n",
    "    return discounted"
   ]
  },
  {
   "cell_type": "code",
   "execution_count": 8,
   "id": "2ffb06e0-8e15-4a7c-b1ee-b822651a51cc",
   "metadata": {},
   "outputs": [],
   "source": [
    "def discount_and_normalize_rewards(all_rewards, discount_factor):\n",
    "    all_discounted_rewards = [discount_rewards(rewards, discount_factor)\n",
    "                              for rewards in all_rewards]\n",
    "    \n",
    "    flat_rewards = np.concatenate(all_discounted_rewards)\n",
    "    reward_mean = flat_rewards.mean()\n",
    "    reward_std = flat_rewards.std()\n",
    "    return [(discounted_rewards-reward_mean)/reward_std \n",
    "            for discounted_rewards in all_discounted_rewards]"
   ]
  },
  {
   "cell_type": "markdown",
   "id": "f560d747-a1d9-4467-b2ba-df909972eeb7",
   "metadata": {},
   "source": [
    "#### Training hyperparameters "
   ]
  },
  {
   "cell_type": "code",
   "execution_count": 9,
   "id": "389b218b-6c03-437d-9e1e-cae39e158be0",
   "metadata": {},
   "outputs": [],
   "source": [
    "n_iterations=100\n",
    "n_episodes_per_update = 10\n",
    "n_max_steps = 20\n",
    "discount_factor = 0.99\n",
    "lr = 0.01"
   ]
  },
  {
   "cell_type": "markdown",
   "id": "56e9817c-d8b7-4c05-99a5-d5b36a319d7e",
   "metadata": {},
   "source": [
    "#### Policy Gradient algorithm"
   ]
  },
  {
   "cell_type": "code",
   "execution_count": 14,
   "id": "37a09e2b-a614-4ef5-8bb4-26560f6bd5e4",
   "metadata": {
    "scrolled": true
   },
   "outputs": [
    {
     "name": "stdout",
     "output_type": "stream",
     "text": [
      "Iteration= 1 / 100\n",
      "Iteration= 2 / 100\n",
      "Iteration= 3 / 100\n",
      "Iteration= 4 / 100\n",
      "Iteration= 5 / 100\n",
      "Iteration= 6 / 100\n",
      "Iteration= 7 / 100\n",
      "Iteration= 8 / 100\n",
      "Iteration= 9 / 100\n",
      "Iteration= 10 / 100\n",
      "Iteration= 11 / 100\n",
      "Iteration= 12 / 100\n",
      "Iteration= 13 / 100\n",
      "Iteration= 14 / 100\n",
      "Iteration= 15 / 100\n",
      "Iteration= 16 / 100\n",
      "Iteration= 17 / 100\n",
      "Iteration= 18 / 100\n",
      "Iteration= 19 / 100\n",
      "Iteration= 20 / 100\n",
      "Iteration= 21 / 100\n",
      "Iteration= 22 / 100\n",
      "Iteration= 23 / 100\n",
      "Iteration= 24 / 100\n",
      "Iteration= 25 / 100\n",
      "Iteration= 26 / 100\n",
      "Iteration= 27 / 100\n",
      "Iteration= 28 / 100\n",
      "Iteration= 29 / 100\n",
      "Iteration= 30 / 100\n",
      "Iteration= 31 / 100\n",
      "Iteration= 32 / 100\n",
      "Iteration= 33 / 100\n",
      "Iteration= 34 / 100\n",
      "Iteration= 35 / 100\n",
      "Iteration= 36 / 100\n",
      "Iteration= 37 / 100\n",
      "Iteration= 38 / 100\n",
      "Iteration= 39 / 100\n",
      "Iteration= 40 / 100\n",
      "Iteration= 41 / 100\n",
      "Iteration= 42 / 100\n",
      "Iteration= 43 / 100\n",
      "Iteration= 44 / 100\n",
      "Iteration= 45 / 100\n",
      "Iteration= 46 / 100\n",
      "Iteration= 47 / 100\n",
      "Iteration= 48 / 100\n",
      "Iteration= 49 / 100\n",
      "Iteration= 50 / 100\n",
      "Iteration= 51 / 100\n",
      "Iteration= 52 / 100\n",
      "Iteration= 53 / 100\n",
      "Iteration= 54 / 100\n",
      "Iteration= 55 / 100\n",
      "Iteration= 56 / 100\n",
      "Iteration= 57 / 100\n",
      "Iteration= 58 / 100\n",
      "Iteration= 59 / 100\n",
      "Iteration= 60 / 100\n",
      "Iteration= 61 / 100\n",
      "Iteration= 62 / 100\n",
      "Iteration= 63 / 100\n",
      "Iteration= 64 / 100\n",
      "Iteration= 65 / 100\n",
      "Iteration= 66 / 100\n",
      "Iteration= 67 / 100\n",
      "Iteration= 68 / 100\n",
      "Iteration= 69 / 100\n",
      "Iteration= 70 / 100\n",
      "Iteration= 71 / 100\n",
      "Iteration= 72 / 100\n",
      "Iteration= 73 / 100\n",
      "Iteration= 74 / 100\n",
      "Iteration= 75 / 100\n",
      "Iteration= 76 / 100\n",
      "Iteration= 77 / 100\n",
      "Iteration= 78 / 100\n",
      "Iteration= 79 / 100\n",
      "Iteration= 80 / 100\n",
      "Iteration= 81 / 100\n",
      "Iteration= 82 / 100\n",
      "Iteration= 83 / 100\n",
      "Iteration= 84 / 100\n",
      "Iteration= 85 / 100\n",
      "Iteration= 86 / 100\n",
      "Iteration= 87 / 100\n",
      "Iteration= 88 / 100\n",
      "Iteration= 89 / 100\n",
      "Iteration= 90 / 100\n",
      "Iteration= 91 / 100\n",
      "Iteration= 92 / 100\n",
      "Iteration= 93 / 100\n",
      "Iteration= 94 / 100\n",
      "Iteration= 95 / 100\n",
      "Iteration= 96 / 100\n",
      "Iteration= 97 / 100\n",
      "Iteration= 98 / 100\n",
      "Iteration= 99 / 100\n",
      "Iteration= 100 / 100\n"
     ]
    }
   ],
   "source": [
    "tf.keras.backend.clear_session()\n",
    "model = PolicyNetwork(state_size, action_size)\n",
    "optimizer = optimizers.Adam(learning_rate=lr)\n",
    "loss_fn = losses.SparseCategoricalCrossentropy()\n",
    "\n",
    "Rewards = []\n",
    "for iteration in range(n_iterations):\n",
    "    all_rewards, all_grads, Total_reward, all_actions = play_multiple_episodes(\n",
    "        env, n_episodes_per_update, n_max_steps, model, loss_fn)\n",
    " \n",
    "    all_final_rewards = discount_and_normalize_rewards(all_rewards,discount_factor)\n",
    "    all_mean_grads = []\n",
    "\n",
    "    for var_index in range(len(model.trainable_variables)):\n",
    "        mean_grads = tf.reduce_mean(\n",
    "            [final_reward*all_grads[episode_index][step][var_index]\n",
    "             for episode_index, final_rewards in enumerate(all_final_rewards)\n",
    "                 for step, final_reward in enumerate(final_rewards)],axis=0)\n",
    "        all_mean_grads.append(mean_grads)\n",
    "        \n",
    "    optimizer.apply_gradients(zip(all_mean_grads, model.trainable_variables))\n",
    "    Rewards.append(Total_reward)\n",
    "    print('Iteration =',iteration+1,'/',n_iterations)"
   ]
  },
  {
   "cell_type": "markdown",
   "id": "4206321a-e215-4be7-b619-c21a88e5879d",
   "metadata": {},
   "source": [
    "#### Results"
   ]
  },
  {
   "cell_type": "code",
   "execution_count": 15,
   "id": "c5c13f44-beb4-4617-8b3a-21529e030633",
   "metadata": {},
   "outputs": [
    {
     "data": {
      "image/png": "[encoded data removed]",
      "text/plain": [
       "<Figure size 640x480 with 1 Axes>"
      ]
     },
     "metadata": {},
     "output_type": "display_data"
    }
   ],
   "source": [
    "plt.plot(range(1, n_iterations + 1), Rewards)\n",
    "plt.xlabel('Episode')\n",
    "plt.ylabel('Total Reward')\n",
    "plt.title('Training Reward vs. Episodes')\n",
    "plt.grid(True)\n",
    "plt.show()"
   ]
  },
  {
   "cell_type": "code",
   "execution_count": 16,
   "id": "cc57e115-a4ca-4724-8e7a-7c42678e898f",
   "metadata": {},
   "outputs": [
    {
     "name": "stdout",
     "output_type": "stream",
     "text": [
      "1/1 [==============================] - 0s 39ms/step\n",
      "1/1 [==============================] - 0s 18ms/step\n",
      "1/1 [==============================] - 0s 17ms/step\n",
      "1/1 [==============================] - 0s 17ms/step\n",
      "1/1 [==============================] - 0s 17ms/step\n",
      "1/1 [==============================] - 0s 17ms/step\n",
      "1/1 [==============================] - 0s 18ms/step\n",
      "1/1 [==============================] - 0s 19ms/step\n",
      "1/1 [==============================] - 0s 18ms/step\n",
      "1/1 [==============================] - 0s 17ms/step\n",
      "1/1 [==============================] - 0s 17ms/step\n",
      "1/1 [==============================] - 0s 16ms/step\n",
      "1/1 [==============================] - 0s 17ms/step\n",
      "1/1 [==============================] - 0s 16ms/step\n",
      "1/1 [==============================] - 0s 17ms/step\n",
      "1/1 [==============================] - 0s 18ms/step\n"
     ]
    }
   ],
   "source": [
    "#Obtain optimal policy\n",
    "probs=[]\n",
    "actions=[]\n",
    "for state in range(0,state_size):\n",
    "    states_array= np.zeros((1,state_size))\n",
    "    states_array[0,state]=1\n",
    "\n",
    "    prob = model.predict(states_array)\n",
    "\n",
    "    dist = tfp.distributions.Categorical(probs=prob, dtype=tf.float32)\n",
    "    action = dist.sample()\n",
    "    probs.append(prob)\n",
    "    actions.append(action)\n",
    "probs=np.array(probs) \n",
    "actions=np.array(actions)"
   ]
  },
  {
   "cell_type": "code",
   "execution_count": 17,
   "id": "5192f78f-4373-4501-893d-488c92b295e9",
   "metadata": {},
   "outputs": [
    {
     "name": "stdout",
     "output_type": "stream",
     "text": [
      "Optimal Policy:\n",
      "\n"
     ]
    },
    {
     "data": {
      "image/png": "[encoded data removed]",
      "text/plain": [
       "<Figure size 500x500 with 1 Axes>"
      ]
     },
     "metadata": {},
     "output_type": "display_data"
    }
   ],
   "source": [
    "print(\"Optimal Policy:\\n\")\n",
    "game_actions_to_plotter_arrows = {'0': 2,'1': 1, '3':3, '2':4}\n",
    "policy = np.array(actions.flatten()).astype(int).astype(str)\n",
    "policy_arrow_compatible =np.array([game_actions_to_plotter_arrows[key] for key in policy],dtype=np.int32)\n",
    "policy_arrow_compatible=policy_arrow_compatible.reshape((-1,4))[::-1,:].reshape((16))\n",
    "M=4;Lx=5;Ly=5\n",
    "fig, ax = plt.subplots()\n",
    "plot_env(fig,ax,M,Lx,Ly)\n",
    "plot_arrows(fig,ax,policy_arrow_compatible,M,Lx,Ly)\n",
    "plt.show()"
   ]
  },
  {
   "cell_type": "markdown",
   "id": "5eff914b-27bb-4d4e-a1b1-c5f27de16224",
   "metadata": {},
   "source": [
    "#### Testing of your policy in the Miner game"
   ]
  },
  {
   "cell_type": "code",
   "execution_count": 18,
   "id": "8ce08f6f-5853-4df4-a019-d89e94f30190",
   "metadata": {},
   "outputs": [
    {
     "name": "stdout",
     "output_type": "stream",
     "text": [
      "Congratulations! You reached the gold!\n",
      "Total number of moves: 5\n",
      "Final reward: 100\n"
     ]
    }
   ],
   "source": [
    "Actions = np.array(all_actions)[n_episodes_per_update-1,:]\n",
    "\n",
    "# Create the Miner environment with custom map and no slipperiness\n",
    "env_test = Miner(desc=[\"FFFG\", \"FFFF\", \"FFFF\", \"HSFF\"], is_slippery=False, render_mode=\"human\")\n",
    "env_test.reset()\n",
    "\n",
    "# Lists to store states, actions, rewards, and dones during the play\n",
    "states, actions, rewards, dones = [], [], [], []\n",
    "\n",
    "def show_state(obs):\n",
    "    # Render the environment using matplotlib\n",
    "    env_test.render()\n",
    "    # Pause for a short time to allow the plot to update\n",
    "    plt.pause(0.01)\n",
    "\n",
    "for index in range(len(Actions)):\n",
    "    \n",
    "    obs_tp1, rew, done, _ = env_test.step(Actions[index])[:4] \n",
    "\n",
    "    # Append the states, actions, rewards, and dones to the lists\n",
    "    states.append(obs_tp1)\n",
    "    rewards.append(rew)\n",
    "    dones.append(done)  \n",
    "\n",
    "    # Show the updated state of the environment\n",
    "    show_state(obs_tp1)\n",
    "\n",
    "    if done == True:\n",
    "        if rew > 0:\n",
    "            print(\"Congratulations! You reached the gold!\")\n",
    "        else:\n",
    "            print(\"Oops! You fell into a hole!\")\n",
    "            \n",
    "# Print the information after the game ends\n",
    "print(\"Total number of moves:\", np.size(states))\n",
    "print(\"Final reward:\", int(sum(rewards)))\n",
    "    \n",
    "# Close the environment after finishing the game\n",
    "env_test.close()"
   ]
  },
  {
   "cell_type": "code",
   "execution_count": null,
   "id": "19060b61-7f54-42cd-aff5-22b1631a72fd",
   "metadata": {},
   "outputs": [],
   "source": []
  }
 ],
 "metadata": {
  "kernelspec": {
   "display_name": "Python 3 (ipykernel)",
   "language": "python",
   "name": "python3"
  },
  "language_info": {
   "codemirror_mode": {
    "name": "ipython",
    "version": 3
   },
   "file_extension": ".py",
   "mimetype": "text/x-python",
   "name": "python",
   "nbconvert_exporter": "python",
   "pygments_lexer": "ipython3",
   "version": "3.10.12"
  }
 },
 "nbformat": 4,
 "nbformat_minor": 5
}
