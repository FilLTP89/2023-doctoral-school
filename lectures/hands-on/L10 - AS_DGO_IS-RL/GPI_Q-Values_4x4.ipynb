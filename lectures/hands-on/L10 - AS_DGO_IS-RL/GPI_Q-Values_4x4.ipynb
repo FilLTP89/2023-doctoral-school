{
 "cells": [
  {
   "cell_type": "markdown",
   "id": "a6255321-5265-4981-b228-aff1dd423f3e",
   "metadata": {},
   "source": [
    "# ALERT Doctoral School 2023\n",
    "## Hands-on Generalized Policy Iteration for the Miner game\n",
    "### Authors: Alexandros Stathas, Diego Gutierrez-Oribio, Ioannis Stefanou"
   ]
  },
  {
   "cell_type": "markdown",
   "id": "e7a8b321-2ee1-44be-95a6-1d06ceeb785c",
   "metadata": {},
   "source": [
    "In this code, you can train a Generalized Policy Iteration with the Q-values to solve the Miner game on a 4x4 grid."
   ]
  },
  {
   "cell_type": "markdown",
   "id": "6d3f23cf-9017-4f84-8341-c9cd885ea516",
   "metadata": {},
   "source": [
    "#### Main Libraries"
   ]
  },
  {
   "cell_type": "code",
   "execution_count": 1,
   "id": "526e0317-d3cd-4084-8eb6-190c62645c68",
   "metadata": {},
   "outputs": [],
   "source": [
    "from Miner_v1 import Miner\n",
    "from plotter import plot_env, plot_arrows \n",
    "import numpy as np\n",
    "import matplotlib.pyplot as plt"
   ]
  },
  {
   "cell_type": "markdown",
   "id": "13faf7b6-6102-4362-9f12-1d9e652e7806",
   "metadata": {},
   "source": [
    "#### Initialization of the Miner environment"
   ]
  },
  {
   "cell_type": "code",
   "execution_count": 2,
   "id": "df84d708-c2aa-4880-aa66-b5a4ce2699c2",
   "metadata": {},
   "outputs": [
    {
     "data": {
      "text/plain": [
       "(13, {'prob': 1})"
      ]
     },
     "execution_count": 2,
     "metadata": {},
     "output_type": "execute_result"
    }
   ],
   "source": [
    "env = Miner(desc=[\"FFFG\", \"FFFF\", \"FFFF\", \"HSFF\"], is_slippery=False, render_mode=\"ansi\")\n",
    "env.reset()\n",
    "\n",
    "num_states = env.observation_space.n\n",
    "num_actions = env.action_space.n"
   ]
  },
  {
   "cell_type": "markdown",
   "id": "bc82feb9-bf59-4bd5-b55c-dbae28e12b6b",
   "metadata": {},
   "source": [
    "#### Initialization of the Q-values arbitrarily"
   ]
  },
  {
   "cell_type": "code",
   "execution_count": 3,
   "id": "8344feb1-41f3-4198-84cb-59feb5b05848",
   "metadata": {},
   "outputs": [],
   "source": [
    "Q = np.zeros((num_states, num_actions))"
   ]
  },
  {
   "cell_type": "markdown",
   "id": "354c909b-7fb0-49c1-b5df-6602884c8e33",
   "metadata": {},
   "source": [
    "#### Training hyperparameters"
   ]
  },
  {
   "cell_type": "code",
   "execution_count": 12,
   "id": "ad752b69-76fa-4d54-ad1b-0e5690b45aad",
   "metadata": {},
   "outputs": [],
   "source": [
    "gamma = 0.9 #Discount factor\n",
    "n_steps = 500 #Steps"
   ]
  },
  {
   "cell_type": "markdown",
   "id": "fc8aed62-5c87-49b6-a98d-a4b3e1c3ee14",
   "metadata": {},
   "source": [
    "#### Generalized Policy Iteration"
   ]
  },
  {
   "cell_type": "code",
   "execution_count": 13,
   "id": "a1f17c8c-11b3-4df8-87b0-8ac018a46348",
   "metadata": {},
   "outputs": [],
   "source": [
    "for _ in range(n_steps):  \n",
    "    # Policy Evaluation\n",
    "    for s in range(num_states):\n",
    "        for a in range(num_actions):\n",
    "            q = 0\n",
    "            for prob, next_state, reward, _ in env.P[s][a]:\n",
    "                q += prob * (reward + gamma * np.max(Q[next_state]))\n",
    "            Q[s][a] = q\n",
    "    \n",
    "    # Policy Improvement\n",
    "    policy_stable = True\n",
    "    optimal_policy = np.argmax(Q, axis=1)\n",
    "    for s in range(num_states):\n",
    "        old_action = optimal_policy[s]\n",
    "        new_action = np.argmax([sum(prob * (reward + gamma * np.max(Q[next_state])) for prob, next_state, reward, _ in env.P[s][a]) for a in range(num_actions)])\n",
    "        if old_action != new_action:\n",
    "            policy_stable = False\n",
    "            optimal_policy[s] = new_action\n",
    "    \n",
    "    if policy_stable:\n",
    "        break"
   ]
  },
  {
   "cell_type": "markdown",
   "id": "52723e26-820d-4b54-9f5e-5be7b688a884",
   "metadata": {},
   "source": [
    "#### Results"
   ]
  },
  {
   "cell_type": "code",
   "execution_count": 23,
   "id": "801d4079-18c8-417b-aac3-005cdd13dcec",
   "metadata": {},
   "outputs": [
    {
     "name": "stdout",
     "output_type": "stream",
     "text": [
      "Final Q-values:\n",
      " [[ 62.9    65.61   81.     62.9  ]\n",
      " [ 72.9    72.9    90.     71.   ]\n",
      " [ 81.     81.    100.     80.   ]\n",
      " [  0.      0.      0.      0.   ]\n",
      " [ 55.61   59.049  72.9    72.9  ]\n",
      " [ 65.61   65.61   81.     81.   ]\n",
      " [ 72.9    72.9    90.     90.   ]\n",
      " [ 81.     81.     80.    100.   ]\n",
      " [ 49.049 -20.     65.61   65.61 ]\n",
      " [ 59.049  59.049  72.9    72.9  ]\n",
      " [ 65.61   65.61   81.     81.   ]\n",
      " [ 72.9    72.9    71.     90.   ]\n",
      " [  0.      0.      0.      0.   ]\n",
      " [-20.     49.049  65.61   65.61 ]\n",
      " [ 59.049  55.61   72.9    72.9  ]\n",
      " [ 65.61   62.9    62.9    81.   ]]\n",
      "\n",
      "\n",
      "Optimal Policy:\n",
      "\n"
     ]
    },
    {
     "data": {
      "image/png": "[encoded data removed]",
      "text/plain": [
       "<Figure size 500x500 with 1 Axes>"
      ]
     },
     "metadata": {},
     "output_type": "display_data"
    }
   ],
   "source": [
    "print(\"Final Q-values:\\n\", Q); print(\"\\n\")\n",
    "print(\"Optimal Policy:\\n\")\n",
    "game_actions_to_plotter_arrows = {'0': 2, '1': 1, '3':3, '2':4}\n",
    "policy_arrow_compatible =np.array([game_actions_to_plotter_arrows[key] for key in np.array(optimal_policy,dtype=\"<U3\")],dtype=np.int32)\n",
    "policy_arrow_compatible=policy_arrow_compatible.reshape((-1,4))[::-1,:].reshape((16))\n",
    "M=4;Lx=5;Ly=5\n",
    "fig, ax = plt.subplots()\n",
    "plot_env(fig,ax,M,Lx,Ly)\n",
    "plot_arrows(fig,ax,policy_arrow_compatible,M,Lx,Ly)\n",
    "plt.show()"
   ]
  },
  {
   "cell_type": "code",
   "execution_count": 15,
   "id": "3d930312-3a53-4853-b861-a2abfa2bc00e",
   "metadata": {},
   "outputs": [],
   "source": [
    "def Dictionary(s):\n",
    "    return optimal_policy[s]"
   ]
  },
  {
   "cell_type": "markdown",
   "id": "75d7a24a-3279-4f29-b75d-ca72056d0e20",
   "metadata": {},
   "source": [
    "#### Testing of your policy in the Miner game"
   ]
  },
  {
   "cell_type": "code",
   "execution_count": 17,
   "id": "ecbc7cf8-491b-4f73-8a41-8d3ce7b5c6e9",
   "metadata": {},
   "outputs": [
    {
     "name": "stdout",
     "output_type": "stream",
     "text": [
      "Congratulations! You reached the gold!\n",
      "Total number of moves: 5\n",
      "Final reward: 100\n"
     ]
    }
   ],
   "source": [
    "# Create the Miner environment with custom map and no slipperiness\n",
    "env_test = Miner(desc=[\"FFFG\", \"FFFF\", \"FFFF\", \"HSFF\"], is_slippery=False, render_mode=\"human\")\n",
    "env_test.reset()\n",
    "\n",
    "# Lists to store states, actions, rewards, and dones during the play\n",
    "states = np.zeros(6)\n",
    "states[0] = 13\n",
    "actions, rewards, dones = [], [], []\n",
    "\n",
    "def show_state(obs):\n",
    "    # Render the environment using matplotlib\n",
    "    env_test.render()\n",
    "    # Pause for a short time to allow the plot to update\n",
    "    plt.pause(0.01)\n",
    "\n",
    "for index in range(5):\n",
    "    action = Dictionary(int(states[index]))\n",
    "    obs_tp1, rew, done, _ = env_test.step(action)[:4] \n",
    "\n",
    "    # Append the states, actions, rewards, and dones to the lists\n",
    "    states[index+1]=obs_tp1\n",
    "    actions.append(action)\n",
    "    rewards.append(rew)\n",
    "    dones.append(done)  \n",
    "\n",
    "    # Show the updated state of the environment\n",
    "    show_state(obs_tp1)\n",
    "\n",
    "    if done == True:\n",
    "        if rew > 0:\n",
    "            print(\"Congratulations! You reached the gold!\")\n",
    "        else:\n",
    "            print(\"Oops! You fell into a hole!\")\n",
    "            \n",
    "# Print the information after the game ends\n",
    "print(\"Total number of moves:\", np.size(rewards))\n",
    "print(\"Final reward:\", int(sum(rewards)))\n",
    "    \n",
    "# Close the environment after finishing the game\n",
    "env_test.close()"
   ]
  },
  {
   "cell_type": "code",
   "execution_count": null,
   "id": "e64f62f1-3092-4289-8c49-4d55ea3abcac",
   "metadata": {},
   "outputs": [],
   "source": []
  }
 ],
 "metadata": {
  "kernelspec": {
   "display_name": "Python 3 (ipykernel)",
   "language": "python",
   "name": "python3"
  },
  "language_info": {
   "codemirror_mode": {
    "name": "ipython",
    "version": 3
   },
   "file_extension": ".py",
   "mimetype": "text/x-python",
   "name": "python",
   "nbconvert_exporter": "python",
   "pygments_lexer": "ipython3",
   "version": "3.10.12"
  }
 },
 "nbformat": 4,
 "nbformat_minor": 5
}
