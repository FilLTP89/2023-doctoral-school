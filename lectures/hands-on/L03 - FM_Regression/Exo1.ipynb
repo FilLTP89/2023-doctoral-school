{
 "cells": [
  {
   "cell_type": "markdown",
   "metadata": {
    "cell_id": "232a802842b54d78876631c8ffe28b4e",
    "deepnote_app_coordinates": {
     "h": 5,
     "w": 12,
     "x": 0,
     "y": 0
    },
    "deepnote_cell_type": "markdown"
   },
   "source": [
    "# ALERT Doctoral School 2023\n",
    "\n",
    "## Hands-on regression methods - Exercise 1\n",
    "\n",
    "\n",
    "Author: Filippo Masi"
   ]
  },
  {
   "cell_type": "markdown",
   "metadata": {
    "cell_id": "d2c2a9dbd4154fff9878bca797a9589e",
    "deepnote_app_coordinates": {
     "h": 5,
     "w": 12,
     "x": 0,
     "y": 0
    },
    "deepnote_cell_type": "markdown"
   },
   "source": [
    "### Objectives\n",
    "- Learn how to perform regression to obtain an interpretable (hyper-elastic) constitutive model that best fits stress-strain ($\\tau-\\gamma$) data;\n",
    "\n",
    "#### Disclaimer\n",
    "\n",
    "This hands-on notebook is devoted to **Regression methods** and it covers chapter 2.<br>\n",
    "In the following, the code cells introduced by a tag **[TODO]** are meant to be completed by you!"
   ]
  },
  {
   "cell_type": "markdown",
   "metadata": {
    "cell_id": "79f523fdd6684b06a25f5a208514b2d6",
    "deepnote_app_coordinates": {
     "h": 5,
     "w": 12,
     "x": 0,
     "y": 0
    },
    "deepnote_cell_type": "markdown"
   },
   "source": [
    "### 1. Introduction\n",
    "\n",
    "We start by importing the libraries and functions needed for the exercise."
   ]
  },
  {
   "cell_type": "code",
   "execution_count": 1,
   "metadata": {
    "cell_id": "cc0b774dba314d6fa8698095c805bbeb",
    "deepnote_app_coordinates": {
     "h": 5,
     "w": 12,
     "x": 0,
     "y": 0
    },
    "deepnote_app_is_code_hidden": false,
    "deepnote_cell_type": "code",
    "deepnote_to_be_reexecuted": false,
    "execution_millis": 1416,
    "execution_start": 1694648304907,
    "source_hash": null
   },
   "outputs": [],
   "source": [
    "import numpy as np\n",
    "import matplotlib\n",
    "import matplotlib.pyplot as plt\n",
    "np.random.seed(6)\n",
    "\n",
    "colorb=(0.2,0.4,0.7)\n",
    "colorr=(0.9,0.1,0.1)"
   ]
  },
  {
   "cell_type": "code",
   "execution_count": 2,
   "metadata": {
    "cell_id": "da943f10eb5d46988e315a7df5dafc8a",
    "deepnote_app_coordinates": {
     "h": 5,
     "w": 12,
     "x": 0,
     "y": 0
    },
    "deepnote_app_is_code_hidden": false,
    "deepnote_cell_type": "code",
    "deepnote_to_be_reexecuted": false,
    "execution_millis": 1050,
    "execution_start": 1694648306227,
    "source_hash": null
   },
   "outputs": [],
   "source": [
    "def scaling(x,fit=False,transform=False,inverse_transform=False,norm=True,param=None):\n",
    "    \n",
    "    ''' scale variable x\n",
    "        :param x: variable\n",
    "        :type x:  umpy array\n",
    "        :param fit: find scaling parameters\n",
    "        :type fit:  bool\n",
    "        :param transform: scale x\n",
    "        :type transform:  bool\n",
    "        :param inverse_transform: inverse scale x\n",
    "        :type inverse_transform:  bool\n",
    "        :param norm: inverse scale x\n",
    "        :type norm:  bool\n",
    "        :param fit: scaling parameters\n",
    "        :type fit:  list\n",
    "    \n",
    "        :return: scaling parameters (if fit=False)\n",
    "                 :rtype: list \n",
    "                 scaled x (if transform=True)\n",
    "                 :rtype: numpy array \n",
    "                 inverse scaled x (if inverse_transform=True)\n",
    "                 :rtype: numpy array\n",
    "    '''\n",
    "    \n",
    "    if fit==True:\n",
    "        if norm==True:\n",
    "            min_ = np.amin(x); max_ = np.amax(x)\n",
    "            a = 0.5*(max_-min_)\n",
    "            b = 0.5*(max_+min_)\n",
    "        else:\n",
    "            a = np.std(x,axis=0)\n",
    "            b = np.mean(x,axis=0)\n",
    "        return [a,b]\n",
    "    elif transform==True:\n",
    "        return np.divide(x-param[1],param[0])\n",
    "    elif inverse_transform==True:\n",
    "        return np.multiply(x,param[0])+param[1]"
   ]
  },
  {
   "cell_type": "markdown",
   "metadata": {
    "cell_id": "5db26a7b986b4ce2b91e0e52498e2e7d",
    "deepnote_app_coordinates": {
     "h": 5,
     "w": 12,
     "x": 0,
     "y": 0
    },
    "deepnote_cell_type": "markdown"
   },
   "source": [
    "***Problem:*** Find the constitutive model that best fits the data (imported below) using regression methods.\n",
    "\n",
    "To do so, we continue by importing the data set."
   ]
  },
  {
   "cell_type": "code",
   "execution_count": 3,
   "metadata": {
    "cell_id": "b391185f7bab4eb4abdabfba8dcca66c",
    "deepnote_app_coordinates": {
     "h": 5,
     "w": 12,
     "x": 0,
     "y": 0
    },
    "deepnote_app_is_code_hidden": false,
    "deepnote_cell_type": "code",
    "deepnote_to_be_reexecuted": false,
    "execution_millis": 631,
    "execution_start": 1694648306287,
    "source_hash": null
   },
   "outputs": [
    {
     "data": {
      "image/png": "[encoded data removed]",
      "text/plain": [
       "<Figure size 300x250 with 1 Axes>"
      ]
     },
     "metadata": {},
     "output_type": "display_data"
    }
   ],
   "source": [
    "import pickle\n",
    "file = './data/MAT1'\n",
    "with open(file, 'rb') as f_obj:\n",
    "    X,y = pickle.load(f_obj) # X = strain, y = stress\n",
    "    \n",
    "# plot\n",
    "fig = plt.figure(figsize=(3., 2.5))\n",
    "plt.plot(X*100,y/1e6,'ko',alpha=0.2)\n",
    "plt.ylabel('$\\\\tau$ (MPa)')\n",
    "plt.xlabel('$\\gamma$ (%)')\n",
    "plt.show()"
   ]
  },
  {
   "cell_type": "markdown",
   "metadata": {
    "cell_id": "dc78bb8f05854966bb02d2b6d7af5646",
    "deepnote_app_coordinates": {
     "h": 5,
     "w": 12,
     "x": 0,
     "y": 0
    },
    "deepnote_cell_type": "markdown"
   },
   "source": [
    "Now, we proceed by splitting the data set into a training and test set, using Scikit-Learn's train_test_split.\n",
    "\n",
    "Then, we scale both independent ($\\gamma$) and dependent ($\\tau$) variables based on the statistics of the training data set.\n",
    "\n",
    "**Remember:** Given a feature $x$, its scaled counterpart $\\bar{x}$ reads\n",
    "\n",
    "$\n",
    "\\bar{x} = \\dfrac{1}{\\alpha}\\left(x-\\beta\\right),\n",
    "$\n",
    "\n",
    "where $\\alpha \\equiv \\frac{1}{2}\\left(\\max(x) - \\min(x)\\right)$ and $\\beta\\equiv\\alpha+\\min(x)$ for normalization ($\\pm$ 1) and $\\alpha \\equiv \\sigma (x)$ and $\\beta\\equiv \\mu (x)$, with $\\mu$ and $\\sigma$ being the mean and standard deviation, respectively, for standardization ($\\mu(\\bar{x})=0$, $\\sigma(\\bar{x})=1$).\n"
   ]
  },
  {
   "cell_type": "code",
   "execution_count": 4,
   "metadata": {
    "cell_id": "9307865d5ba44cde843f0fd437e9f831",
    "deepnote_app_coordinates": {
     "h": 5,
     "w": 12,
     "x": 0,
     "y": 0
    },
    "deepnote_app_is_code_hidden": false,
    "deepnote_cell_type": "code",
    "deepnote_to_be_reexecuted": false,
    "execution_millis": 1137,
    "execution_start": 1694648306847,
    "source_hash": null
   },
   "outputs": [],
   "source": [
    "from sklearn.model_selection import train_test_split\n",
    "X_train, X_test, y_train, y_test = train_test_split(X,y,test_size=0.2) # split into training and test sets\n",
    "\n",
    "param_x = scaling(X_train,fit=True) # scaling params for independent variable X\n",
    "param_y = scaling(y_train,fit=True) # scaling params for dependent variable y\n",
    "\n",
    "# Scale independent variables (training and test sets)\n",
    "norm_X_train = scaling(X_train,transform=True,param=param_x) \n",
    "norm_X_test = scaling(X_test,transform=True,param=param_x) \n",
    "\n",
    "# Scale dependent variables (training and test sets)\n",
    "norm_y_train = scaling(y_train,transform=True,param=param_y)\n",
    "norm_y_test = scaling(y_test,transform=True,param=param_y)"
   ]
  },
  {
   "cell_type": "markdown",
   "metadata": {
    "cell_id": "29fa3db3eaba4cdbb75a21445347889a",
    "deepnote_app_coordinates": {
     "h": 5,
     "w": 12,
     "x": 0,
     "y": 0
    },
    "deepnote_cell_type": "markdown"
   },
   "source": [
    "At this point, we need to construct the polynomial basis functions using Scikit-Learn's PolynomialFeatures (we will consider up to the sixth degree). Once we have the basis functions, we can proceed with a linear regression."
   ]
  },
  {
   "cell_type": "code",
   "execution_count": 5,
   "metadata": {
    "cell_id": "a18e8bbeade2496691c2c97bf01f434a",
    "deepnote_app_coordinates": {
     "h": 5,
     "w": 12,
     "x": 0,
     "y": 0
    },
    "deepnote_app_is_code_hidden": false,
    "deepnote_cell_type": "code",
    "deepnote_to_be_reexecuted": false,
    "execution_millis": 125,
    "execution_start": 1694648308026,
    "source_hash": null
   },
   "outputs": [
    {
     "data": {
      "text/plain": [
       "(0.03596609312933774,\n",
       " array([ 1.1670445 ,  0.25768115, -0.07775421, -0.47973272, -0.3668392 ,\n",
       "        -0.09082236]))"
      ]
     },
     "execution_count": 5,
     "metadata": {},
     "output_type": "execute_result"
    }
   ],
   "source": [
    "from sklearn.preprocessing import PolynomialFeatures\n",
    "from sklearn.linear_model import LinearRegression \n",
    "\n",
    "poly_features = PolynomialFeatures(degree=6, include_bias=False)\n",
    "norm_X_poly = poly_features.fit_transform(norm_X_train) # augment X data set with polynomial features up to degree=degree \n",
    "lin_reg = LinearRegression() \n",
    "lin_reg.fit(norm_X_poly,norm_y_train) # perform linear regression\n",
    "lin_reg.intercept_, lin_reg.coef_"
   ]
  },
  {
   "cell_type": "markdown",
   "metadata": {
    "cell_id": "9c70c42659574d7784ceb6d420af8b7e",
    "deepnote_app_coordinates": {
     "h": 5,
     "w": 12,
     "x": 0,
     "y": 0
    },
    "deepnote_cell_type": "markdown"
   },
   "source": [
    "The above linear regression model finds the following best-fit equation\n",
    "\n",
    "$\\bar{\\tau} = 0.036 + 1.167 \\bar{\\gamma} + 0.257 \\bar{\\gamma}^2 -0.077 \\bar{\\gamma}^3 -0.479 \\bar{\\gamma}^4 -0.367 \\bar{\\gamma}^5 -0.091 \\bar{\\gamma}^6.\n",
    "$\n",
    "\n",
    "We can now deploy it to make predictions and compare the latter with the test set"
   ]
  },
  {
   "cell_type": "code",
   "execution_count": 6,
   "metadata": {
    "cell_id": "8cc9c5e3ba924e219eff6e98e8aa768b",
    "deepnote_app_coordinates": {
     "h": 5,
     "w": 12,
     "x": 0,
     "y": 0
    },
    "deepnote_app_is_code_hidden": false,
    "deepnote_cell_type": "code",
    "deepnote_to_be_reexecuted": false,
    "execution_millis": 13,
    "execution_start": 1694648308149,
    "source_hash": null
   },
   "outputs": [],
   "source": [
    "# Make new predictions\n",
    "x = np.expand_dims(np.linspace(0,0.01,200),1)\n",
    "norm_x = scaling(x,transform=True,param=param_x)\n",
    "norm_x_poly = poly_features.fit_transform(norm_x)\n",
    "norm_y_predicted = lin_reg.predict(norm_x_poly)\n",
    "y_predicted = scaling(norm_y_predicted,inverse_transform=True,param=param_y)"
   ]
  },
  {
   "cell_type": "markdown",
   "metadata": {
    "cell_id": "a004320d9b6e44b0b906387e6b110d21",
    "deepnote_app_coordinates": {
     "h": 5,
     "w": 12,
     "x": 0,
     "y": 0
    },
    "deepnote_cell_type": "markdown"
   },
   "source": [
    "We can now compare the predictions with the test data set"
   ]
  },
  {
   "cell_type": "code",
   "execution_count": 7,
   "metadata": {
    "cell_id": "c2cb99d656a74b6bae65cad29bd3f1ea",
    "deepnote_app_coordinates": {
     "h": 5,
     "w": 12,
     "x": 0,
     "y": 0
    },
    "deepnote_app_is_code_hidden": false,
    "deepnote_cell_type": "code",
    "deepnote_to_be_reexecuted": false,
    "execution_millis": 1254,
    "execution_start": 1694648308194,
    "source_hash": null
   },
   "outputs": [
    {
     "data": {
      "image/png": "[encoded data removed]",
      "text/plain": [
       "<Figure size 300x250 with 1 Axes>"
      ]
     },
     "metadata": {},
     "output_type": "display_data"
    },
    {
     "data": {
      "image/png": "[encoded data removed]",
      "text/plain": [
       "<Figure size 300x250 with 1 Axes>"
      ]
     },
     "metadata": {},
     "output_type": "display_data"
    }
   ],
   "source": [
    "fig = plt.figure(figsize=(3., 2.5))\n",
    "plt.title('Scaled data')\n",
    "plt.plot(norm_X_train,norm_y_train,'ko',alpha=0.2,label='train data')\n",
    "plt.plot(norm_X_test,norm_y_test,'ko',label='test data')\n",
    "plt.plot(norm_x,norm_y_predicted,'r-',label='model')\n",
    "plt.ylabel('$\\\\bar{\\\\tau}$ (-)')\n",
    "plt.xlabel('$\\\\bar{\\gamma}$ (-)')\n",
    "plt.legend()\n",
    "plt.show()\n",
    "\n",
    "\n",
    "fig = plt.figure(figsize=(3., 2.5))\n",
    "plt.title('Data')\n",
    "plt.plot(X_train*100,y_train/1e6,'ko',alpha=0.2,label='train data')\n",
    "plt.plot(X_test*100,y_test/1e6,'ko',label='test data')\n",
    "plt.plot(x*100,y_predicted/1e6,'r-',label='model')\n",
    "plt.ylabel('$\\\\tau$ (MPa)')\n",
    "plt.xlabel('$\\gamma$ (%)')\n",
    "plt.legend()\n",
    "plt.show()"
   ]
  },
  {
   "cell_type": "markdown",
   "metadata": {
    "cell_id": "c5f451025a944cc5908c24ab7aad73b3",
    "deepnote_app_coordinates": {
     "h": 5,
     "w": 12,
     "x": 0,
     "y": 0
    },
    "deepnote_cell_type": "markdown"
   },
   "source": [
    "**[TODO-1]**\n",
    "- Is the above polynomial model satisfactory?\n",
    "\n",
    "*Hint:* Check the predictions of the model for larger deformations (extrapolation)."
   ]
  },
  {
   "cell_type": "markdown",
   "metadata": {
    "cell_id": "3e75747644264466950238bbce791ffc",
    "deepnote_app_coordinates": {
     "h": 5,
     "w": 12,
     "x": 0,
     "y": 0
    },
    "deepnote_cell_type": "markdown"
   },
   "source": [
    "**[TODO-2]**\n",
    "- Can you find a more accurate (yet interpretable) constitutive model? [Find the expression: $\\bar{\\tau}= \\bar{\\tau}(\\bar{\\gamma})$]\n",
    "\n",
    "*Hint*: Yes, you can: refer to all different regression models/methods we have seen so far."
   ]
  },
  {
   "cell_type": "markdown",
   "metadata": {
    "cell_id": "bc888a6913984956b52cbc8bb7e8dedf",
    "deepnote_app_coordinates": {
     "h": 5,
     "w": 12,
     "x": 0,
     "y": 0
    },
    "deepnote_cell_type": "markdown"
   },
   "source": [
    "**[TODO-3]**\n",
    "- Once you have found the model that best fits the data, compute the expression of the effective stiffness $G$.\n",
    "\n",
    "*Note*: The effective stiffness $G$ is defined as \n",
    "\n",
    "$G \\equiv \\dfrac{d \\tau}{d \\gamma}(\\gamma).\n",
    "$\n",
    "\n",
    "*N.B.* Pay attention to features scaling!"
   ]
  }
 ],
 "metadata": {
  "deepnote": {},
  "deepnote_app_clear_outputs": true,
  "deepnote_app_hide_all_code_blocks_enabled": false,
  "deepnote_app_layout": "powerful-article",
  "deepnote_app_table_of_contents_enabled": true,
  "deepnote_app_width": "standard",
  "deepnote_execution_queue": [],
  "deepnote_full_width": true,
  "deepnote_notebook_id": "cb4fd2ee13344a88ac6f44e58a0307ff",
  "deepnote_persisted_session": {
   "createdAt": "2023-09-14T00:01:39.117Z"
  },
  "kernelspec": {
   "display_name": "Python 3 (ipykernel)",
   "language": "python",
   "name": "python3"
  },
  "language_info": {
   "codemirror_mode": {
    "name": "ipython",
    "version": 3
   },
   "file_extension": ".py",
   "mimetype": "text/x-python",
   "name": "python",
   "nbconvert_exporter": "python",
   "pygments_lexer": "ipython3",
   "version": "3.9.16"
  }
 },
 "nbformat": 4,
 "nbformat_minor": 1
}
